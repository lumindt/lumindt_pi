{
 "cells": [
  {
   "cell_type": "code",
   "execution_count": null,
   "metadata": {},
   "outputs": [],
   "source": [
    "from utils.sensors import MAX31855\n",
    "import board\n",
    "import busio\n",
    "import gpiozero\n",
    "\n",
    "spi=busio.SPI(clock=board.SCLK,MISO=board.MISO)\n",
    "while not spi.try_lock():\n",
    "    pass\n",
    "spi.configure(baudrate=100000,phase=0,polarity=0)\n",
    "spi.unlock()\n",
    "\n",
    "S0=gpiozero.OutputDevice(pin=17)\n",
    "S1=gpiozero.OutputDevice(pin=27)\n",
    "S2=gpiozero.OutputDevice(pin=22)\n",
    "\n",
    "def sense(num):\n",
    "    # NUM LOGIC\n",
    "    val=bytearray(4)\n",
    "    while not spi.try_lock():\n",
    "        pass\n",
    "    spi.readinto(val)\n",
    "    spi.unlock()\n",
    "    print(val)\n",
    "\n",
    "sense(0)\n",
    "\n"
   ]
  }
 ],
 "metadata": {
  "kernelspec": {
   "display_name": "venv",
   "language": "python",
   "name": "python3"
  },
  "language_info": {
   "name": "python",
   "version": "3.11.2"
  }
 },
 "nbformat": 4,
 "nbformat_minor": 2
}
